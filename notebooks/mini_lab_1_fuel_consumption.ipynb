{
 "cells": [
  {
   "cell_type": "markdown",
   "id": "b80198e6",
   "metadata": {},
   "source": [
    "# MiniLab 1: Fuel Consumption Analysis"
   ]
  },
  {
   "cell_type": "code",
   "execution_count": null,
   "id": "f3b6208e",
   "metadata": {},
   "outputs": [],
   "source": [
    "import pandas as pd\n",
    "from isc301.config import fuel_consumption_raw_path"
   ]
  },
  {
   "cell_type": "code",
   "execution_count": null,
   "id": "86bf2c3b",
   "metadata": {},
   "outputs": [],
   "source": [
    "df = pd.read_csv(fuel_consumption_raw_path)\n",
    "df.head()"
   ]
  },
  {
   "cell_type": "markdown",
   "id": "bb36d92d",
   "metadata": {},
   "source": []
  }
 ],
 "metadata": {
  "kernelspec": {
   "display_name": "Python 3",
   "language": "python",
   "name": "python3"
  },
  "language_info": {
   "codemirror_mode": {
    "name": "ipython",
    "version": 3
   },
   "file_extension": ".py",
   "mimetype": "text/x-python",
   "name": "python",
   "nbconvert_exporter": "python",
   "pygments_lexer": "ipython3",
   "version": "3.13.7"
  }
 },
 "nbformat": 4,
 "nbformat_minor": 5
}
